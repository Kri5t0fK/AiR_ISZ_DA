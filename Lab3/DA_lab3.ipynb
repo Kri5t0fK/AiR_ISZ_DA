{
 "cells": [
  {
   "attachments": {},
   "cell_type": "markdown",
   "metadata": {},
   "source": [
    "# Lab 3 - Prior and Posterior predictive distributions\n",
    "\n",
    "The goal of this excercise is to create a binomial model, use prior predictive distributions to select a proper prior and then using posterior predictive distributions.\n",
    "\n",
    "We will be considering a following case:\n",
    "\n",
    "Typical effects of administering certain vaccine result in an allergic reaction in 20% cases on average. This is what we know a priori\n",
    "\n",
    "We are testing a new vaccine, for which we performed a trial on 50 patients registering 7 allergic reactions. We want to verify what is the allergic reaction probability for new trial and what is the probability that it is lower than for normal vacine. We assume that each patient treatment is exchangeable. "
   ]
  },
  {
   "cell_type": "code",
   "execution_count": 1,
   "metadata": {},
   "outputs": [
    {
     "name": "stderr",
     "output_type": "stream",
     "text": [
      "/usr/local/lib/python3.9/site-packages/tqdm/auto.py:22: TqdmWarning: IProgress not found. Please update jupyter and ipywidgets. See https://ipywidgets.readthedocs.io/en/stable/user_install.html\n",
      "  from .autonotebook import tqdm as notebook_tqdm\n"
     ]
    }
   ],
   "source": [
    "from cmdstanpy import CmdStanModel\n",
    "import pandas as pd\n",
    "import seaborn as sns\n",
    "import arviz as az \n",
    "import numpy as np\n",
    "import matplotlib.pyplot as plt\n",
    "import scipy.stats as stats"
   ]
  },
  {
   "attachments": {},
   "cell_type": "markdown",
   "metadata": {},
   "source": [
    "## 1. Modeling prior predictive distribution\n",
    "\n",
    "Because prior predictive distribution does not use data it can often be realized just using random number generators. \n",
    "\n",
    "1. Create a Stan model, which will consist of only ```generated quantites``` block.\n",
    "2. In this block define integer variable ```N``` for number of trials equal to 50, integer variable ```y``` for number of successes and real ```p``` for probability of allergic reaction. Remember to use necessary constraints.\n",
    "3. Assign a prior for  ```p``` (appropriate random number generator) that will represent our knowledge about typical cases. You can do it either analytically or by using simulations. \n",
    "4. Sample from binomial distribution, that will use ```N``` and sampled ```p``` to generate number of allergic reactions ```y```.\n",
    "5. Generate 1000 samples (pair of ```p``` an ```y```) by calling appropriate method in ```cmdstanpy```. Remeber to set ```fixed_param=True```.\n",
    "6. Compute ratio of allergic reactions for each sample and create a histogram.\n",
    "7. Verify if mean of the ratio is consistent with prior knowledge, otherwise modify prior parameters. Describe your reasoning in the report. "
   ]
  },
  {
   "attachments": {},
   "cell_type": "markdown",
   "metadata": {},
   "source": [
    "Stan model 1.:\n",
    "```stan\n",
    "generated quantities {\n",
    "    int<lower=0> N = 50;\n",
    "    int<lower=0, upper=N> y;\n",
    "    real<lower=0, upper=1> p;\n",
    "    \n",
    "    p = normal_rng(0.2, 0.05);\n",
    "    y = binomial_rng(N, p);\n",
    "}\n",
    "```"
   ]
  },
  {
   "cell_type": "code",
   "execution_count": 2,
   "metadata": {},
   "outputs": [
    {
     "name": "stderr",
     "output_type": "stream",
     "text": [
      "INFO:cmdstanpy:found newer exe file, not recompiling\n",
      "INFO:cmdstanpy:CmdStan start processing\n",
      "chain 1 |\u001b[34m██████████\u001b[0m| 00:00 Sampling completed                      "
     ]
    },
    {
     "name": "stdout",
     "output_type": "stream",
     "text": [
      "                                                                                "
     ]
    },
    {
     "name": "stderr",
     "output_type": "stream",
     "text": [
      "\n",
      "INFO:cmdstanpy:CmdStan done processing.\n"
     ]
    },
    {
     "name": "stdout",
     "output_type": "stream",
     "text": [
      "\n"
     ]
    }
   ],
   "source": [
    "# 1.1-1.5 Stan model\n",
    "stan_model1 = CmdStanModel(stan_file='stan_codes/code_1.stan')\n",
    "samples = stan_model1.sample(\n",
    "    data={'N':50}, \n",
    "    fixed_param=True, \n",
    "    iter_sampling=1000, \n",
    "    iter_warmup=0, \n",
    "    chains = 1)\n",
    "\n",
    "# Create pandas dataframe\n",
    "df = samples.draws_pd()"
   ]
  },
  {
   "cell_type": "code",
   "execution_count": 3,
   "metadata": {},
   "outputs": [
    {
     "data": {
      "text/html": [
       "<div>\n",
       "<style scoped>\n",
       "    .dataframe tbody tr th:only-of-type {\n",
       "        vertical-align: middle;\n",
       "    }\n",
       "\n",
       "    .dataframe tbody tr th {\n",
       "        vertical-align: top;\n",
       "    }\n",
       "\n",
       "    .dataframe thead th {\n",
       "        text-align: right;\n",
       "    }\n",
       "</style>\n",
       "<table border=\"1\" class=\"dataframe\">\n",
       "  <thead>\n",
       "    <tr style=\"text-align: right;\">\n",
       "      <th></th>\n",
       "      <th>lp__</th>\n",
       "      <th>accept_stat__</th>\n",
       "      <th>N</th>\n",
       "      <th>y</th>\n",
       "      <th>p</th>\n",
       "    </tr>\n",
       "  </thead>\n",
       "  <tbody>\n",
       "    <tr>\n",
       "      <th>count</th>\n",
       "      <td>1000.0</td>\n",
       "      <td>1000.0</td>\n",
       "      <td>1000.000000</td>\n",
       "      <td>1000.000000</td>\n",
       "      <td>1000.000000</td>\n",
       "    </tr>\n",
       "    <tr>\n",
       "      <th>mean</th>\n",
       "      <td>0.0</td>\n",
       "      <td>0.0</td>\n",
       "      <td>49.950000</td>\n",
       "      <td>9.857000</td>\n",
       "      <td>0.200187</td>\n",
       "    </tr>\n",
       "    <tr>\n",
       "      <th>std</th>\n",
       "      <td>0.0</td>\n",
       "      <td>0.0</td>\n",
       "      <td>1.581139</td>\n",
       "      <td>3.735037</td>\n",
       "      <td>0.051254</td>\n",
       "    </tr>\n",
       "    <tr>\n",
       "      <th>min</th>\n",
       "      <td>0.0</td>\n",
       "      <td>0.0</td>\n",
       "      <td>0.000000</td>\n",
       "      <td>0.000000</td>\n",
       "      <td>0.000000</td>\n",
       "    </tr>\n",
       "    <tr>\n",
       "      <th>25%</th>\n",
       "      <td>0.0</td>\n",
       "      <td>0.0</td>\n",
       "      <td>50.000000</td>\n",
       "      <td>7.000000</td>\n",
       "      <td>0.166492</td>\n",
       "    </tr>\n",
       "    <tr>\n",
       "      <th>50%</th>\n",
       "      <td>0.0</td>\n",
       "      <td>0.0</td>\n",
       "      <td>50.000000</td>\n",
       "      <td>10.000000</td>\n",
       "      <td>0.198217</td>\n",
       "    </tr>\n",
       "    <tr>\n",
       "      <th>75%</th>\n",
       "      <td>0.0</td>\n",
       "      <td>0.0</td>\n",
       "      <td>50.000000</td>\n",
       "      <td>12.000000</td>\n",
       "      <td>0.235481</td>\n",
       "    </tr>\n",
       "    <tr>\n",
       "      <th>max</th>\n",
       "      <td>0.0</td>\n",
       "      <td>0.0</td>\n",
       "      <td>50.000000</td>\n",
       "      <td>22.000000</td>\n",
       "      <td>0.355975</td>\n",
       "    </tr>\n",
       "  </tbody>\n",
       "</table>\n",
       "</div>"
      ],
      "text/plain": [
       "         lp__  accept_stat__            N            y            p\n",
       "count  1000.0         1000.0  1000.000000  1000.000000  1000.000000\n",
       "mean      0.0            0.0    49.950000     9.857000     0.200187\n",
       "std       0.0            0.0     1.581139     3.735037     0.051254\n",
       "min       0.0            0.0     0.000000     0.000000     0.000000\n",
       "25%       0.0            0.0    50.000000     7.000000     0.166492\n",
       "50%       0.0            0.0    50.000000    10.000000     0.198217\n",
       "75%       0.0            0.0    50.000000    12.000000     0.235481\n",
       "max       0.0            0.0    50.000000    22.000000     0.355975"
      ]
     },
     "metadata": {},
     "output_type": "display_data"
    },
    {
     "data": {
      "image/png": "[encoded data removed]",
      "text/plain": [
       "<Figure size 648x432 with 1 Axes>"
      ]
     },
     "metadata": {
      "needs_background": "light"
     },
     "output_type": "display_data"
    }
   ],
   "source": [
    "display(df.describe())\n",
    "\n",
    "# 1.6 Compute ratio of [y-number of reactions] to [N-number of patients] (for each sample)\n",
    "y_ratio = df['y'] / df['N']\n",
    "mean_y_ratio = y_ratio.mean()\n",
    "\n",
    "fig, ax = plt.subplots(figsize=(9, 6))\n",
    "# Histogram of ratio'ed y\n",
    "sns.histplot(data=y_ratio, bins=20, stat='density', ax=ax, label='Histogram of $y$')\n",
    "# 1.7 Verify mean ratio\n",
    "ax.axvline(x=mean_y_ratio, ymin=0, ymax=10, color='r', linestyle='-.', label=f'Mean = {mean_y_ratio:.4f}')\n",
    "ax.set(title='Ratio of allergic reactions $y$', xlabel='Ratio of $y$', ylabel='Density')\n",
    "ax.legend()\n",
    "plt.show()"
   ]
  },
  {
   "attachments": {},
   "cell_type": "markdown",
   "metadata": {},
   "source": [
    "**1.7 Verify ratio mean consistency**  \n",
    "As visible on graph above *(red line)* - mean of `y_ratio` is consistant with prior knowledge *(Probability of cases `p=0.20`)* and is also around `~0.20`"
   ]
  },
  {
   "attachments": {},
   "cell_type": "markdown",
   "metadata": {},
   "source": [
    "\n",
    "## 2. Modeling posterior and posterior predictive distribution\n",
    "\n",
    "1. Create a Stan model in which:\n",
    "   - ```N``` and ```y``` are appropriately defined in the ```data``` block.\n",
    "   - ```p``` is defined in the parameters block. \n",
    "   - binomial likelihood and prior (selected using prior predictive distribution) are defined in the model block.\n",
    "   - new integer variable ```y_pred``` in the generated quantities block. \n",
    "   - sample ```y_pred``` using values of parameter ```p``` and input variable ```N```\n",
    "2. Generate default number of samples from appropriate method in ```cmdstanpy```.\n",
    "3. Compute ratio of predicted allergic reactions for each sample and create a histogram.\n",
    "4. Compute the expected value and 94% density interval of the predicted ratio, compare it with expected value and 94% density interval of parameter ```p```. Use ```arviz``` package.\n",
    "5. Compute the probability that ratio is lower than the average probability from traditional vaccines (count the number of simulated ratios that are smaller).\n",
    "\n",
    "\n"
   ]
  },
  {
   "cell_type": "code",
   "execution_count": 578,
   "metadata": {},
   "outputs": [
    {
     "name": "stderr",
     "output_type": "stream",
     "text": [
      "INFO:cmdstanpy:found newer exe file, not recompiling\n",
      "INFO:cmdstanpy:CmdStan start processing\n",
      "chain 1 |\u001b[33m          \u001b[0m| 00:00 Status\n",
      "\u001b[A\n",
      "\n",
      "\u001b[A\u001b[A\n",
      "\n",
      "\u001b[A\u001b[A\n",
      "chain 1 |\u001b[34m██████████\u001b[0m| 00:00 Sampling completed\n",
      "chain 2 |\u001b[34m██████████\u001b[0m| 00:00 Sampling completed\n",
      "\n",
      "chain 3 |\u001b[34m██████████\u001b[0m| 00:00 Sampling completed\n",
      "\n",
      "\n",
      "chain 4 |\u001b[34m██████████\u001b[0m| 00:00 Sampling completed"
     ]
    },
    {
     "name": "stdout",
     "output_type": "stream",
     "text": [
      "                                                                                                                                                                "
     ]
    },
    {
     "name": "stderr",
     "output_type": "stream",
     "text": [
      "\n"
     ]
    },
    {
     "name": "stdout",
     "output_type": "stream",
     "text": [
      "                                                                                                                                                                "
     ]
    },
    {
     "name": "stderr",
     "output_type": "stream",
     "text": [
      "INFO:cmdstanpy:CmdStan done processing.\n"
     ]
    },
    {
     "name": "stdout",
     "output_type": "stream",
     "text": [
      "\n"
     ]
    }
   ],
   "source": [
    "# Model parameters\n",
    "N = 50\n",
    "y = 7\n",
    "\n",
    "# 2.1 Stan model\n",
    "stan_model2 = CmdStanModel(stan_file='stan_codes/code_2.stan')\n",
    "# 2.2 Default number of samples\n",
    "samples = stan_model2.sample(data={'N':N, 'y':y})\n",
    "\n",
    "# Create pandas dataframe\n",
    "df = samples.draws_pd()"
   ]
  },
  {
   "cell_type": "code",
   "execution_count": 579,
   "metadata": {},
   "outputs": [
    {
     "data": {
      "text/html": [
       "<div>\n",
       "<style scoped>\n",
       "    .dataframe tbody tr th:only-of-type {\n",
       "        vertical-align: middle;\n",
       "    }\n",
       "\n",
       "    .dataframe tbody tr th {\n",
       "        vertical-align: top;\n",
       "    }\n",
       "\n",
       "    .dataframe thead th {\n",
       "        text-align: right;\n",
       "    }\n",
       "</style>\n",
       "<table border=\"1\" class=\"dataframe\">\n",
       "  <thead>\n",
       "    <tr style=\"text-align: right;\">\n",
       "      <th></th>\n",
       "      <th>p</th>\n",
       "      <th>y_pred</th>\n",
       "      <th>y_pred_ratio</th>\n",
       "    </tr>\n",
       "  </thead>\n",
       "  <tbody>\n",
       "    <tr>\n",
       "      <th>count</th>\n",
       "      <td>4000.000000</td>\n",
       "      <td>4000.000000</td>\n",
       "      <td>4000.000000</td>\n",
       "    </tr>\n",
       "    <tr>\n",
       "      <th>mean</th>\n",
       "      <td>0.174780</td>\n",
       "      <td>8.765500</td>\n",
       "      <td>0.175310</td>\n",
       "    </tr>\n",
       "    <tr>\n",
       "      <th>std</th>\n",
       "      <td>0.037290</td>\n",
       "      <td>3.266141</td>\n",
       "      <td>0.065323</td>\n",
       "    </tr>\n",
       "    <tr>\n",
       "      <th>min</th>\n",
       "      <td>0.065139</td>\n",
       "      <td>0.000000</td>\n",
       "      <td>0.000000</td>\n",
       "    </tr>\n",
       "    <tr>\n",
       "      <th>25%</th>\n",
       "      <td>0.149493</td>\n",
       "      <td>6.000000</td>\n",
       "      <td>0.120000</td>\n",
       "    </tr>\n",
       "    <tr>\n",
       "      <th>50%</th>\n",
       "      <td>0.173608</td>\n",
       "      <td>9.000000</td>\n",
       "      <td>0.180000</td>\n",
       "    </tr>\n",
       "    <tr>\n",
       "      <th>75%</th>\n",
       "      <td>0.198996</td>\n",
       "      <td>11.000000</td>\n",
       "      <td>0.220000</td>\n",
       "    </tr>\n",
       "    <tr>\n",
       "      <th>max</th>\n",
       "      <td>0.326195</td>\n",
       "      <td>22.000000</td>\n",
       "      <td>0.440000</td>\n",
       "    </tr>\n",
       "  </tbody>\n",
       "</table>\n",
       "</div>"
      ],
      "text/plain": [
       "                 p       y_pred  y_pred_ratio\n",
       "count  4000.000000  4000.000000   4000.000000\n",
       "mean      0.174780     8.765500      0.175310\n",
       "std       0.037290     3.266141      0.065323\n",
       "min       0.065139     0.000000      0.000000\n",
       "25%       0.149493     6.000000      0.120000\n",
       "50%       0.173608     9.000000      0.180000\n",
       "75%       0.198996    11.000000      0.220000\n",
       "max       0.326195    22.000000      0.440000"
      ]
     },
     "metadata": {},
     "output_type": "display_data"
    }
   ],
   "source": [
    "# 2.3 Compute ratio of\n",
    "# [y_pred-predicted allergic reactions] to [N-number of patients] (for each sample)\n",
    "df['y_pred_ratio'] = df['y_pred'] / N\n",
    "mean_y_ratio = y_ratio.mean()\n",
    "\n",
    "display(df[['p', 'y_pred', 'y_pred_ratio']].describe())"
   ]
  },
  {
   "cell_type": "code",
   "execution_count": 580,
   "metadata": {},
   "outputs": [
    {
     "data": {
      "image/png": "[encoded data removed]",
      "text/plain": [
       "<Figure size 648x432 with 1 Axes>"
      ]
     },
     "metadata": {
      "needs_background": "light"
     },
     "output_type": "display_data"
    }
   ],
   "source": [
    "# 2.3 Histogram of ratio'ed y\n",
    "fig, ax = plt.subplots(figsize=(9, 6))\n",
    "sns.histplot(data=df['y_pred_ratio'], bins='auto', stat='density', ax=ax, label='Histogram of $y$')\n",
    "ax.set(title='Ratio of allergic reactions $y_{{pred}}$', xlabel='Ratio of $y_{{pred}}$', ylabel='Density')\n",
    "ax.legend()\n",
    "plt.show()"
   ]
  },
  {
   "cell_type": "code",
   "execution_count": 582,
   "metadata": {},
   "outputs": [
    {
     "name": "stdout",
     "output_type": "stream",
     "text": [
      "Predicted y_ratio:\n",
      "- Expected value: 0.1753\n",
      "- 94%-density HDI: <0.0600, 0.3000>\n",
      "Parameter [p]:\n",
      "- Expected value: 0.1748\n",
      "- 94%-density HDI: <0.1048, 0.2453>\n",
      "\n",
      "Probability that ratio is lower then avg-probability: 61.25%\n"
     ]
    }
   ],
   "source": [
    "# 2.4 Expected value and 94% density interval for\n",
    "# - predicted ratio\n",
    "expected_y_pred = df['y_pred_ratio'].mean()\n",
    "## Highest Density Interval (94%)\n",
    "y_pred_HDI = az.hdi(df['y_pred_ratio'].to_numpy(), hdi_prob=0.94)\n",
    "\n",
    "# - parameter [p]\n",
    "expected_p = df['p'].mean()\n",
    "## Highest Density Interval (94%)\n",
    "p_HDI = az.hdi(df['p'].to_numpy(), hdi_prob=0.94)\n",
    "\n",
    "print('Predicted y_ratio:')\n",
    "print(f'- Expected value: {expected_y_pred:.4f}')\n",
    "print(f'- 94%-density HDI: <{y_pred_HDI[0]:.4f}, {y_pred_HDI[1]:.4f}>')\n",
    "\n",
    "print('Parameter [p]:')\n",
    "print(f'- Expected value: {expected_p:.4f}')\n",
    "print(f'- 94%-density HDI: <{p_HDI[0]:.4f}, {p_HDI[1]:.4f}>')\n",
    "\n",
    "# 2.5 Probability for [ratio] lower then [average probability from traditional vaccines]\n",
    "avg_p = 0.2     # Average probability\n",
    "count_ratio_lower = np.sum(df['y_pred_ratio'] < avg_p)\n",
    "prob_ratio_lower = count_ratio_lower / len(df['y_pred_ratio']) * 100\n",
    "\n",
    "print(f'\\nProbability that ratio is lower then avg-probability: {prob_ratio_lower:.2f}%')\n"
   ]
  }
 ],
 "metadata": {
  "kernelspec": {
   "display_name": "Python 3",
   "language": "python",
   "name": "python3"
  },
  "language_info": {
   "codemirror_mode": {
    "name": "ipython",
    "version": 3
   },
   "file_extension": ".py",
   "mimetype": "text/x-python",
   "name": "python",
   "nbconvert_exporter": "python",
   "pygments_lexer": "ipython3",
   "version": "3.9.11"
  },
  "orig_nbformat": 4,
  "vscode": {
   "interpreter": {
    "hash": "949777d72b0d2535278d3dc13498b2535136f6dfe0678499012e853ee9abcab1"
   }
  }
 },
 "nbformat": 4,
 "nbformat_minor": 2
}
